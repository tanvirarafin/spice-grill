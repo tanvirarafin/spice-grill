{
  "nbformat": 4,
  "nbformat_minor": 0,
  "metadata": {
    "colab": {
      "name": "Nengo-MNIST example3.ipynb",
      "provenance": [],
      "collapsed_sections": [],
      "include_colab_link": true
    },
    "kernelspec": {
      "display_name": "Python 3",
      "name": "python3"
    }
  },
  "cells": [
    {
      "cell_type": "markdown",
      "metadata": {
        "id": "view-in-github",
        "colab_type": "text"
      },
      "source": [
        "<a href=\"https://colab.research.google.com/github/rohil9/spice-grill/blob/main/Nengo_MNIST_example3.ipynb\" target=\"_parent\"><img src=\"https://colab.research.google.com/assets/colab-badge.svg\" alt=\"Open In Colab\"/></a>"
      ]
    },
    {
      "cell_type": "code",
      "metadata": {
        "id": "PrAjGFNI1nLy",
        "outputId": "564f733d-4d6e-48f9-903b-9033a5109a94",
        "colab": {
          "base_uri": "https://localhost:8080/"
        }
      },
      "source": [
        "\"\"\"\n",
        "Nengo Benchmark Model: MNIST\n",
        "Input: Images from the MNIST data set\n",
        "Ouput: the categorization of the image\n",
        "\"\"\"\n",
        "\"\"\"\n",
        "This code has been updated by Jose Domingue-jodom4@morgan.edu,\n",
        "Rober Hill-rohill9@morgan.edu, Maryline Happy -mahap1@morgan.edu\n",
        "\"\"\"\n",
        "!pip install nengo\n",
        "!pip install pytry\n",
        "\n",
        "import nengo\n",
        "from nengo.neurons import LIF\n",
        "import numpy as np\n",
        "import pytry\n",
        "import timeit\n",
        "import sklearn.datasets\n",
        "\n",
        "class MNIST(pytry.NengoTrial):\n",
        "    def params(self):\n",
        "        self.param('number of neurons', n_neurons=500)\n",
        "        self.param('time per image', t_image=0.1)\n",
        "        self.param('training samples', n_training=5000)\n",
        "        self.param('testing samples', n_testing=100)\n",
        "        self.param('output synapse', synapse=0.02)\n",
        "        self.param('use Gabor encoders', use_gabor=False)\n",
        "        self.param('iterations of backprop to run', n_backprop=0)\n",
        "        self.param('learning rate', learning_rate=1e-3)\n",
        "        self.param('iterations of feedback alignment to run', n_feedback=0)\n",
        "        self.param('regularization', reg=0.1)\n",
        "        \n",
        "\n",
        "\n",
        "    def model(self, p):\n",
        "        mnist = sklearn.datasets.fetch_openml('mnist_784')\n",
        "\n",
        "        x = mnist['data'].astype(float)-128\n",
        "        x = x/np.linalg.norm(x, axis=1)[:,None]\n",
        "        y = mnist['target']\n",
        "        y = np.eye(10)[y.astype(int)]*2-1\n",
        "        y = y/np.linalg.norm(y, axis=1)[:,None]\n",
        "\n",
        "        order = np.arange(len(x))\n",
        "        np.random.shuffle(order)\n",
        "        x = x[order]\n",
        "        y = y[order]\n",
        "        \n",
        "        model = nengo.Network() #nengo.neurons.NeuronType=nengo.LIF\n",
        "        with model:\n",
        "            def stim_func(t, data=x[p.n_training:]):\n",
        "                index = int(t / p.t_image)\n",
        "                return data[index % len(data)]\n",
        "            stim = nengo.Node(stim_func)\n",
        "\n",
        "            if p.use_gabor:\n",
        "                from nengo_extras.vision import Gabor, Mask\n",
        "                encoders = Gabor().generate(p.n_neurons, (11, 11))\n",
        "                encoders = Mask((28, 28)).populate(encoders, flatten=True)\n",
        "            else:\n",
        "                encoders = nengo.dists.UniformHypersphere(surface=True)\n",
        "\n",
        "            ens = nengo.Ensemble(n_neurons=p.n_neurons, dimensions=784,neuron_type=LIF(),\n",
        "                                 encoders=encoders,\n",
        "                                 intercepts=nengo.dists.CosineSimilarity(784+2))\n",
        "            \n",
        "            def result_func(t, raw, correct=y[p.n_training:]):\n",
        "                index = int((t-p.dt) / p.t_image)\n",
        "                c = np.argmax(correct[index])\n",
        "                r = np.argmax(raw)\n",
        "                return np.hstack([raw, c, r])\n",
        "            result = nengo.Node(result_func, size_in=10)\n",
        "\n",
        "            nengo.Connection(stim, ens, synapse=None)\n",
        "            c = nengo.Connection(ens, result, \n",
        "                                 eval_points=x[:p.n_training], \n",
        "                                 function=y[:p.n_training],\n",
        "                                 solver=nengo.solvers.LstsqL2(reg=p.reg),\n",
        "                                 synapse=p.synapse)\n",
        "\n",
        "            self.p_output = nengo.Probe(result)\n",
        "\n",
        "        if p.n_backprop > 0:\n",
        "            import nengo_encoder_learning as nel\n",
        "            nel.improve(c, backprop=True,\n",
        "                        learning_rate=p.learning_rate, \n",
        "                        steps=p.n_backprop,\n",
        "                        seed=np.random.randint(0x7FFFFFFF))\n",
        "        if p.n_feedback > 0:\n",
        "            import nengo_encoder_learning as nel\n",
        "            nel.improve(c, backprop=False,\n",
        "                        learning_rate=p.learning_rate, \n",
        "                        steps=p.n_feedback,\n",
        "                        seed=np.random.randint(0x7FFFFFFF))\n",
        "        return model\n",
        "\n",
        "\n",
        "    def evaluate(self, p, sim, plt):\n",
        "        start = timeit.default_timer()\n",
        "        T = p.n_testing * p.t_image\n",
        "        sim.run(T)\n",
        "        end = timeit.default_timer()\n",
        "        speed = T / (end - start)\n",
        "\n",
        "        correct = sim.data[self.p_output][:,10].astype(int)\n",
        "        result = sim.data[self.p_output][:,11].astype(int)\n",
        "        confusion = np.zeros((10,10), dtype=int)\n",
        "        count = np.zeros(10, dtype=int)\n",
        "        times = sim.trange()\n",
        "        for i in range(p.n_testing):\n",
        "            t = (i + 1) * p.t_image\n",
        "            index = np.argmax(times >= t) - 1\n",
        "            count[correct[index]] += 1\n",
        "            confusion[correct[index],result[index]] += 1\n",
        "\n",
        "        score = sum(confusion[i, i] for i in range(10)) / float(p.n_testing)\n",
        "\n",
        "        if plt is not None:\n",
        "            plt.subplot(2, 1, 1)\n",
        "            plt.plot(sim.trange(), sim.data[self.p_output][:,:10])\n",
        "            plt.xlim(0, p.t_image * min(p.n_testing, 20))\n",
        "            plt.ylabel('output')\n",
        "            plt.subplot(2, 1, 2)\n",
        "            plt.plot(sim.trange(), sim.data[self.p_output][:,10:])\n",
        "            plt.legend(['correct', 'chosen'], loc='best')\n",
        "            plt.xlim(0, p.t_image * min(p.n_testing, 20))\n",
        "\n",
        "        return dict(speed=speed, score=score, count=count, confusion=confusion)\n"
      ],
      "execution_count": null,
      "outputs": [
        {
          "output_type": "stream",
          "text": [
            "Collecting nengo\n",
            "\u001b[?25l  Downloading https://files.pythonhosted.org/packages/d4/1a/a1fb5418f1656c2e630bac74088f6b084ec866a2890b7d0b36bbba850298/nengo-3.0.0-py3-none-any.whl (391kB)\n",
            "\r\u001b[K     |▉                               | 10kB 13.3MB/s eta 0:00:01\r\u001b[K     |█▊                              | 20kB 17.9MB/s eta 0:00:01\r\u001b[K     |██▌                             | 30kB 22.1MB/s eta 0:00:01\r\u001b[K     |███▍                            | 40kB 14.2MB/s eta 0:00:01\r\u001b[K     |████▏                           | 51kB 8.7MB/s eta 0:00:01\r\u001b[K     |█████                           | 61kB 9.1MB/s eta 0:00:01\r\u001b[K     |█████▉                          | 71kB 9.3MB/s eta 0:00:01\r\u001b[K     |██████▊                         | 81kB 9.1MB/s eta 0:00:01\r\u001b[K     |███████▌                        | 92kB 9.4MB/s eta 0:00:01\r\u001b[K     |████████▍                       | 102kB 9.3MB/s eta 0:00:01\r\u001b[K     |█████████▏                      | 112kB 9.3MB/s eta 0:00:01\r\u001b[K     |██████████                      | 122kB 9.3MB/s eta 0:00:01\r\u001b[K     |██████████▉                     | 133kB 9.3MB/s eta 0:00:01\r\u001b[K     |███████████▊                    | 143kB 9.3MB/s eta 0:00:01\r\u001b[K     |████████████▋                   | 153kB 9.3MB/s eta 0:00:01\r\u001b[K     |█████████████▍                  | 163kB 9.3MB/s eta 0:00:01\r\u001b[K     |██████████████▎                 | 174kB 9.3MB/s eta 0:00:01\r\u001b[K     |███████████████                 | 184kB 9.3MB/s eta 0:00:01\r\u001b[K     |████████████████                | 194kB 9.3MB/s eta 0:00:01\r\u001b[K     |████████████████▊               | 204kB 9.3MB/s eta 0:00:01\r\u001b[K     |█████████████████▋              | 215kB 9.3MB/s eta 0:00:01\r\u001b[K     |██████████████████▍             | 225kB 9.3MB/s eta 0:00:01\r\u001b[K     |███████████████████▎            | 235kB 9.3MB/s eta 0:00:01\r\u001b[K     |████████████████████            | 245kB 9.3MB/s eta 0:00:01\r\u001b[K     |█████████████████████           | 256kB 9.3MB/s eta 0:00:01\r\u001b[K     |█████████████████████▊          | 266kB 9.3MB/s eta 0:00:01\r\u001b[K     |██████████████████████▋         | 276kB 9.3MB/s eta 0:00:01\r\u001b[K     |███████████████████████▌        | 286kB 9.3MB/s eta 0:00:01\r\u001b[K     |████████████████████████▎       | 296kB 9.3MB/s eta 0:00:01\r\u001b[K     |█████████████████████████▏      | 307kB 9.3MB/s eta 0:00:01\r\u001b[K     |██████████████████████████      | 317kB 9.3MB/s eta 0:00:01\r\u001b[K     |██████████████████████████▉     | 327kB 9.3MB/s eta 0:00:01\r\u001b[K     |███████████████████████████▋    | 337kB 9.3MB/s eta 0:00:01\r\u001b[K     |████████████████████████████▌   | 348kB 9.3MB/s eta 0:00:01\r\u001b[K     |█████████████████████████████▎  | 358kB 9.3MB/s eta 0:00:01\r\u001b[K     |██████████████████████████████▏ | 368kB 9.3MB/s eta 0:00:01\r\u001b[K     |███████████████████████████████ | 378kB 9.3MB/s eta 0:00:01\r\u001b[K     |███████████████████████████████▉| 389kB 9.3MB/s eta 0:00:01\r\u001b[K     |████████████████████████████████| 399kB 9.3MB/s \n",
            "\u001b[?25hRequirement already satisfied: numpy>=1.13 in /usr/local/lib/python3.6/dist-packages (from nengo) (1.18.5)\n",
            "Installing collected packages: nengo\n",
            "Successfully installed nengo-3.0.0\n",
            "Collecting pytry\n",
            "  Downloading https://files.pythonhosted.org/packages/aa/4d/aaa274788f297f9ab2659d200f53c2183a9603253c0d2a729bf00690bae5/pytry-0.9.2.tar.gz\n",
            "Building wheels for collected packages: pytry\n",
            "  Building wheel for pytry (setup.py) ... \u001b[?25l\u001b[?25hdone\n",
            "  Created wheel for pytry: filename=pytry-0.9.2-cp36-none-any.whl size=8726 sha256=fa313bcff1a879f1ab87d6e19b5c9aee79781f3e76cd956eb12b6c91ddabaf68\n",
            "  Stored in directory: /root/.cache/pip/wheels/b5/d1/78/a6795785fa94f84b41b1bb9fd175454a1214cbd37ef73eb005\n",
            "Successfully built pytry\n",
            "Installing collected packages: pytry\n",
            "Successfully installed pytry-0.9.2\n"
          ],
          "name": "stdout"
        }
      ]
    },
    {
      "cell_type": "code",
      "metadata": {
        "id": "jLdZVdzABJ2m",
        "outputId": "57a06ece-3fb5-4320-dae6-c2607be93133",
        "colab": {
          "background_save": true
        }
      },
      "source": [
        "MNIST().run()#verbose=False"
      ],
      "execution_count": null,
      "outputs": [
        {
          "output_type": "stream",
          "text": [
            "running MNIST#20201112-055224-f6b7f953\n"
          ],
          "name": "stdout"
        },
        {
          "output_type": "display_data",
          "data": {
            "application/vdom.v1+json": {
              "attributes": {},
              "tagName": "div"
            },
            "text/html": [
              "\n",
              "                <script>\n",
              "                    if (Jupyter.version.split(\".\")[0] < 5) {\n",
              "                        var pb = document.getElementById(\"f3f5dc70-e41b-4bb7-a181-7b44b1500480\");\n",
              "                        var text = document.createTextNode(\n",
              "                            \"HMTL progress bar requires Jupyter Notebook >= \" +\n",
              "                            \"5.0 or Jupyter Lab. Alternatively, you can use \" +\n",
              "                            \"TerminalProgressBar().\");\n",
              "                        pb.parentNode.insertBefore(text, pb);\n",
              "                    }\n",
              "                </script>\n",
              "                <div id=\"f3f5dc70-e41b-4bb7-a181-7b44b1500480\" style=\"\n",
              "                    width: 100%;\n",
              "                    border: 1px solid #cfcfcf;\n",
              "                    border-radius: 4px;\n",
              "                    text-align: center;\n",
              "                    position: relative;\">\n",
              "                  <div class=\"pb-text\" style=\"\n",
              "                      position: absolute;\n",
              "                      width: 100%;\">\n",
              "                    0%\n",
              "                  </div>\n",
              "                  <div class=\"pb-fill\" style=\"\n",
              "                      background-color: #bdd2e6;\n",
              "                      width: 0%;\">\n",
              "                    <style type=\"text/css\" scoped=\"scoped\">\n",
              "                        @keyframes pb-fill-anim {\n",
              "                            0% { background-position: 0 0; }\n",
              "                            100% { background-position: 100px 0; }\n",
              "                        }\n",
              "                    </style>\n",
              "                    &nbsp;\n",
              "                  </div>\n",
              "                </div>"
            ],
            "text/plain": [
              "HtmlProgressBar cannot be displayed. Please use the TerminalProgressBar. It can be enabled with `nengo.rc.set('progress', 'progress_bar', 'nengo.utils.progress.TerminalProgressBar')`."
            ]
          },
          "metadata": {
            "tags": []
          }
        },
        {
          "output_type": "display_data",
          "data": {
            "application/vdom.v1+json": {
              "attributes": {
                "id": "cf3b834c-9799-4de7-a336-d7a4f6e28a56",
                "style": {
                  "border": "1px solid #cfcfcf",
                  "borderRadius": "4px",
                  "boxSizing": "border-box",
                  "position": "relative",
                  "textAlign": "center",
                  "width": "100%"
                }
              },
              "children": [
                {
                  "attributes": {
                    "class": "pb-text",
                    "style": {
                      "position": "absolute",
                      "width": "100%"
                    }
                  },
                  "children": [
                    "Build finished in 0:00:01."
                  ],
                  "tagName": "div"
                },
                {
                  "attributes": {
                    "class": "pb-fill",
                    "style": {
                      "animation": "none",
                      "backgroundColor": "#bdd2e6",
                      "backgroundImage": "none",
                      "backgroundSize": "100px 100%",
                      "width": "100%"
                    }
                  },
                  "children": [
                    {
                      "attributes": {
                        "scoped": "scoped",
                        "type": "text/css"
                      },
                      "children": [
                        "\n                        @keyframes pb-fill-anim {\n                            0% { background-position: 0 0; }\n                            100% { background-position: 100px 0; }\n                        }}"
                      ],
                      "tagName": "style"
                    },
                    " "
                  ],
                  "tagName": "div"
                }
              ],
              "tagName": "div"
            },
            "text/html": [
              "<script>\n",
              "              (function () {\n",
              "                  var root = document.getElementById('f3f5dc70-e41b-4bb7-a181-7b44b1500480');\n",
              "                  var text = root.getElementsByClassName('pb-text')[0];\n",
              "                  var fill = root.getElementsByClassName('pb-fill')[0];\n",
              "\n",
              "                  text.innerHTML = 'Build finished in 0:00:01.';\n",
              "                  \n",
              "            fill.style.width = '100%';\n",
              "            fill.style.animation = 'pb-fill-anim 2s linear infinite';\n",
              "            fill.style.backgroundSize = '100px 100%';\n",
              "            fill.style.backgroundImage = 'repeating-linear-gradient(' +\n",
              "                '90deg, #bdd2e6, #edf2f8 40%, #bdd2e6 80%, #bdd2e6)';\n",
              "        \n",
              "                  \n",
              "                fill.style.animation = 'none';\n",
              "                fill.style.backgroundImage = 'none';\n",
              "            \n",
              "              })();\n",
              "        </script>"
            ]
          },
          "metadata": {
            "tags": []
          }
        },
        {
          "output_type": "display_data",
          "data": {
            "application/vdom.v1+json": {
              "attributes": {},
              "tagName": "div"
            },
            "text/html": [
              "\n",
              "                <script>\n",
              "                    if (Jupyter.version.split(\".\")[0] < 5) {\n",
              "                        var pb = document.getElementById(\"294a94b1-cb4c-4b84-85c6-f9f2280733f3\");\n",
              "                        var text = document.createTextNode(\n",
              "                            \"HMTL progress bar requires Jupyter Notebook >= \" +\n",
              "                            \"5.0 or Jupyter Lab. Alternatively, you can use \" +\n",
              "                            \"TerminalProgressBar().\");\n",
              "                        pb.parentNode.insertBefore(text, pb);\n",
              "                    }\n",
              "                </script>\n",
              "                <div id=\"294a94b1-cb4c-4b84-85c6-f9f2280733f3\" style=\"\n",
              "                    width: 100%;\n",
              "                    border: 1px solid #cfcfcf;\n",
              "                    border-radius: 4px;\n",
              "                    text-align: center;\n",
              "                    position: relative;\">\n",
              "                  <div class=\"pb-text\" style=\"\n",
              "                      position: absolute;\n",
              "                      width: 100%;\">\n",
              "                    0%\n",
              "                  </div>\n",
              "                  <div class=\"pb-fill\" style=\"\n",
              "                      background-color: #bdd2e6;\n",
              "                      width: 0%;\">\n",
              "                    <style type=\"text/css\" scoped=\"scoped\">\n",
              "                        @keyframes pb-fill-anim {\n",
              "                            0% { background-position: 0 0; }\n",
              "                            100% { background-position: 100px 0; }\n",
              "                        }\n",
              "                    </style>\n",
              "                    &nbsp;\n",
              "                  </div>\n",
              "                </div>"
            ],
            "text/plain": [
              "HtmlProgressBar cannot be displayed. Please use the TerminalProgressBar. It can be enabled with `nengo.rc.set('progress', 'progress_bar', 'nengo.utils.progress.TerminalProgressBar')`."
            ]
          },
          "metadata": {
            "tags": []
          }
        },
        {
          "output_type": "display_data",
          "data": {
            "application/vdom.v1+json": {
              "attributes": {
                "id": "7e956b75-d4a7-4ea1-ab7d-a221a4ea8e8f",
                "style": {
                  "border": "1px solid #cfcfcf",
                  "borderRadius": "4px",
                  "boxSizing": "border-box",
                  "position": "relative",
                  "textAlign": "center",
                  "width": "100%"
                }
              },
              "children": [
                {
                  "attributes": {
                    "class": "pb-text",
                    "style": {
                      "position": "absolute",
                      "width": "100%"
                    }
                  },
                  "children": [
                    "Simulation finished in 0:00:06."
                  ],
                  "tagName": "div"
                },
                {
                  "attributes": {
                    "class": "pb-fill",
                    "style": {
                      "animation": "none",
                      "backgroundColor": "#bdd2e6",
                      "backgroundImage": "none",
                      "transition": "width 0.1s linear",
                      "width": "100%"
                    }
                  },
                  "children": [
                    {
                      "attributes": {
                        "scoped": "scoped",
                        "type": "text/css"
                      },
                      "children": [
                        "\n                        @keyframes pb-fill-anim {\n                            0% { background-position: 0 0; }\n                            100% { background-position: 100px 0; }\n                        }}"
                      ],
                      "tagName": "style"
                    },
                    " "
                  ],
                  "tagName": "div"
                }
              ],
              "tagName": "div"
            },
            "text/html": [
              "<script>\n",
              "              (function () {\n",
              "                  var root = document.getElementById('294a94b1-cb4c-4b84-85c6-f9f2280733f3');\n",
              "                  var text = root.getElementsByClassName('pb-text')[0];\n",
              "                  var fill = root.getElementsByClassName('pb-fill')[0];\n",
              "\n",
              "                  text.innerHTML = 'Simulation finished in 0:00:06.';\n",
              "                  \n",
              "            if (100.0 > 0.) {\n",
              "                fill.style.transition = 'width 0.1s linear';\n",
              "            } else {\n",
              "                fill.style.transition = 'none';\n",
              "            }\n",
              "\n",
              "            fill.style.width = '100.0%';\n",
              "            fill.style.animation = 'none';\n",
              "            fill.style.backgroundImage = 'none'\n",
              "        \n",
              "                  \n",
              "                fill.style.animation = 'none';\n",
              "                fill.style.backgroundImage = 'none';\n",
              "            \n",
              "              })();\n",
              "        </script>"
            ]
          },
          "metadata": {
            "tags": []
          }
        },
        {
          "output_type": "stream",
          "text": [
            "seed = 1\n",
            "backend = 'nengo'\n",
            "dt = 0.001\n",
            "neuron_type = 'default'\n",
            "n_neurons = 500\n",
            "t_image = 0.1\n",
            "n_training = 5000\n",
            "n_testing = 100\n",
            "synapse = 0.02\n",
            "use_gabor = False\n",
            "n_backprop = 0\n",
            "learning_rate = 0.001\n",
            "n_feedback = 0\n",
            "reg = 0.1\n",
            "confusion = array([[13,  0,  0,  1,  0,  0,  0,  0,  0,  0],\n",
            "       [ 0, 17,  0,  0,  0,  0,  0,  0,  0,  0],\n",
            "       [ 1,  0,  2,  1,  0,  0,  0,  1,  0,  0],\n",
            "       [ 0,  1,  0,  2,  0,  1,  0,  0,  0,  0],\n",
            "       [ 0,  1,  0,  1, 10,  0,  0,  0,  0,  1],\n",
            "       [ 2,  0,  0,  1,  0,  3,  0,  1,  1,  0],\n",
            "       [ 0,  0,  0,  0,  0,  0,  9,  0,  0,  0],\n",
            "       [ 0,  0,  0,  0,  0,  1,  0,  9,  0,  0],\n",
            "       [ 0,  1,  2,  1,  0,  0,  0,  0,  8,  0],\n",
            "       [ 0,  0,  0,  0,  0,  0,  0,  2,  0,  6]])\n",
            "count = array([14, 17,  5,  4, 13,  8,  9, 10, 12,  8])\n",
            "score = 0.79\n",
            "speed = 1.6601123138792608\n"
          ],
          "name": "stdout"
        },
        {
          "output_type": "execute_result",
          "data": {
            "text/plain": [
              "{'confusion': array([[13,  0,  0,  1,  0,  0,  0,  0,  0,  0],\n",
              "        [ 0, 17,  0,  0,  0,  0,  0,  0,  0,  0],\n",
              "        [ 1,  0,  2,  1,  0,  0,  0,  1,  0,  0],\n",
              "        [ 0,  1,  0,  2,  0,  1,  0,  0,  0,  0],\n",
              "        [ 0,  1,  0,  1, 10,  0,  0,  0,  0,  1],\n",
              "        [ 2,  0,  0,  1,  0,  3,  0,  1,  1,  0],\n",
              "        [ 0,  0,  0,  0,  0,  0,  9,  0,  0,  0],\n",
              "        [ 0,  0,  0,  0,  0,  1,  0,  9,  0,  0],\n",
              "        [ 0,  1,  2,  1,  0,  0,  0,  0,  8,  0],\n",
              "        [ 0,  0,  0,  0,  0,  0,  0,  2,  0,  6]]),\n",
              " 'count': array([14, 17,  5,  4, 13,  8,  9, 10, 12,  8]),\n",
              " 'score': 0.79,\n",
              " 'speed': 1.6601123138792608}"
            ]
          },
          "metadata": {
            "tags": []
          },
          "execution_count": 0
        }
      ]
    }
  ]
}